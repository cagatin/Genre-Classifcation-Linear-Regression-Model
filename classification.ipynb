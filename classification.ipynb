{
 "cells": [
  {
   "cell_type": "code",
   "execution_count": 123,
   "metadata": {},
   "outputs": [],
   "source": [
    "import numpy as np\n",
    "import math\n",
    "from datascience import *\n",
    "\n",
    "import matplotlib\n",
    "matplotlib.use('Agg', warn=False)\n",
    "%matplotlib inline\n",
    "import matplotlib.pyplot as plots"
   ]
  },
  {
   "cell_type": "markdown",
   "metadata": {},
   "source": [
    "# 1. The Data set\n",
    "\n",
    "The dataset is a table of songs, ea with a name, artist, and genre. We will be trying to predict each song's genre.\n",
    "\n",
    "Only attribute we will use to predict genre of a song are its lyrics. List of just under 5000 words that might occur in a song. For each song, our dataset tells us the frequency w/ each of these words occurs in that song. All words have been converted to owercase. "
   ]
  },
  {
   "cell_type": "code",
   "execution_count": 124,
   "metadata": {},
   "outputs": [
    {
     "data": {
      "text/html": [
       "<table border=\"1\" class=\"dataframe\">\n",
       "    <thead>\n",
       "        <tr>\n",
       "            <th>Title</th> <th>Artist</th> <th>Genre</th> <th>i</th> <th>the</th> <th>you</th> <th>like</th> <th>love</th>\n",
       "        </tr>\n",
       "    </thead>\n",
       "    <tbody>\n",
       "        <tr>\n",
       "            <td>In Your Eyes</td> <td>Alison Krauss</td> <td>Country</td> <td>0.107143</td> <td>0   </td> <td>0.0297619</td> <td>0.0119048</td> <td>0.0595238</td>\n",
       "        </tr>\n",
       "    </tbody>\n",
       "</table>"
      ],
      "text/plain": [
       "Title        | Artist        | Genre   | i        | the  | you       | like      | love\n",
       "In Your Eyes | Alison Krauss | Country | 0.107143 | 0    | 0.0297619 | 0.0119048 | 0.0595238"
      ]
     },
     "execution_count": 124,
     "metadata": {},
     "output_type": "execute_result"
    }
   ],
   "source": [
    "lyrics = Table.read_table('https://raw.githubusercontent.com/data-8/data8assets/gh-pages/materials/sp17/project/project3/lyrics.csv')\n",
    "lyrics.where('Title', 'In Your Eyes').select(0,1,2,3,4,5,'like','love')"
   ]
  },
  {
   "cell_type": "markdown",
   "metadata": {},
   "source": [
    "The cell above prints a few column of the row for the country song 'In Your Eyes' by Alison Krauss. Song contains 168 words. The word 'like' apears twice: $2/168 = 0.0595$ of the words. the word 'the' doesn't appear at all"
   ]
  },
  {
   "cell_type": "markdown",
   "metadata": {},
   "source": [
    "Our dataset doesn't contain all info about a song. For example, it doesnt describe the roder of words in the song, let along the melody, instruments, rhythym. Nonetheless, you may find that word frequencies alone are sufficient to build and accurate genre classifier. "
   ]
  },
  {
   "cell_type": "markdown",
   "metadata": {},
   "source": [
    "All titles are unique. The row_for_title function provides fast access to one row for each title"
   ]
  },
  {
   "cell_type": "code",
   "execution_count": 125,
   "metadata": {},
   "outputs": [],
   "source": [
    "title_index = lyrics.index_by('Title')\n",
    "def row_for_title(title):\n",
    "    \"\"\"Return the row for a title, similar to the following expression (but faster) \n",
    "        lyrics.where('Title',title).row(0)\n",
    "    \"\"\"\n",
    "    return title_index.get(title)[0]"
   ]
  },
  {
   "cell_type": "markdown",
   "metadata": {},
   "source": [
    "for example, the fastest way to find the frequency of \"love\" in the song In your eyes is to access the 'love' item from its row:"
   ]
  },
  {
   "cell_type": "code",
   "execution_count": 126,
   "metadata": {},
   "outputs": [
    {
     "data": {
      "text/plain": [
       "0.05952381"
      ]
     },
     "execution_count": 126,
     "metadata": {},
     "output_type": "execute_result"
    }
   ],
   "source": [
    "row_for_title('In Your Eyes').item('love')"
   ]
  },
  {
   "cell_type": "markdown",
   "metadata": {},
   "source": [
    "### Question 1.1:\n",
    "Set expected_row_sum to the number that you will result from summing all proportions in each row, excluding the first 3 columns"
   ]
  },
  {
   "cell_type": "code",
   "execution_count": 127,
   "metadata": {},
   "outputs": [
    {
     "data": {
      "text/plain": [
       "array([1.00000004, 0.99999998, 1.00000009, ..., 1.00000001, 0.99999998,\n",
       "       1.00000003])"
      ]
     },
     "execution_count": 127,
     "metadata": {},
     "output_type": "execute_result"
    }
   ],
   "source": [
    "expected_row_sum = lyrics.drop(0,1,2)\n",
    "expected_row_sum = expected_row_sum.apply(sum)\n",
    "expected_row_sum"
   ]
  },
  {
   "cell_type": "markdown",
   "metadata": {},
   "source": [
    "The following cell below generates a histogram of actual row sums. It should confirm your answer above, perhaps with a small amount of error:"
   ]
  },
  {
   "cell_type": "code",
   "execution_count": 128,
   "metadata": {},
   "outputs": [
    {
     "data": {
      "image/png": "[encoded data removed]",
      "text/plain": [
       "<Figure size 432x288 with 1 Axes>"
      ]
     },
     "metadata": {
      "needs_background": "light"
     },
     "output_type": "display_data"
    }
   ],
   "source": [
    "Table().with_column('sums', lyrics.drop([0, 1, 2]).apply(sum)).hist(0)"
   ]
  },
  {
   "cell_type": "markdown",
   "metadata": {},
   "source": [
    "The dataset was extracted from the Million Song Dataset. Specifically, datasets from musiXmatch and Last.fum"
   ]
  },
  {
   "cell_type": "markdown",
   "metadata": {},
   "source": [
    "The counts of common words in the lyrics for all of these songs are provided by the musiXmatch dataset (called a bag-of-words format). We converted the words to lowercase, removed the explicit words, and converted the counts to frequencies"
   ]
  },
  {
   "cell_type": "markdown",
   "metadata": {},
   "source": [
    "The Last.fm dataset contains multiple tags for each song in the Million Song Dataset. Some tags are genre-related such as 'pop', 'punk', 'rock', etc. To construct the Genre column, first we extracted songs with Last.fm tags that included the words 'country', or both 'hip' and 'hop'. These songs were then cross-referenced witht he musiXmatch dataset, and only songs with musiXmatch lyrics were placed in the dataset. \n",
    "   "
   ]
  },
  {
   "cell_type": "code",
   "execution_count": 129,
   "metadata": {},
   "outputs": [
    {
     "name": "stdout",
     "output_type": "stream",
     "text": [
      "Words with frequencies: 4817\n",
      "Words with genres: 1721\n"
     ]
    }
   ],
   "source": [
    "print('Words with frequencies:', lyrics.drop('Title','Artist','Genre').num_columns)\n",
    "print('Words with genres:', lyrics.num_rows)"
   ]
  },
  {
   "cell_type": "markdown",
   "metadata": {},
   "source": [
    "# 1.1: Word Stemming\n",
    "The columsn other than Title, Artist, Genre in the lyrics table are all words in some of the songs in our dataset. Some of those names have been *Stemmed* or abbreviated heuristically, in an ettempt to make different *inflected* forms of the same base word into the same string.\n",
    "\n",
    "For example, the column \"manag\" is the sum of proportions of the words 'manage', 'manager', etc. "
   ]
  },
  {
   "cell_type": "markdown",
   "metadata": {},
   "source": [
    "Stemming makes it a little tricky to search for words you want to use, so we have provided another table that will let us see examples of unstemmed versions of each stemmed word. Run the following code below to load the table"
   ]
  },
  {
   "cell_type": "code",
   "execution_count": 130,
   "metadata": {},
   "outputs": [
    {
     "data": {
      "text/html": [
       "<table border=\"1\" class=\"dataframe\">\n",
       "    <thead>\n",
       "        <tr>\n",
       "            <th>Stem</th> <th>Word</th>\n",
       "        </tr>\n",
       "    </thead>\n",
       "    <tbody>\n",
       "        <tr>\n",
       "            <td>devant</td> <td>devant     </td>\n",
       "        </tr>\n",
       "        <tr>\n",
       "            <td>devast</td> <td>devastation</td>\n",
       "        </tr>\n",
       "        <tr>\n",
       "            <td>devil </td> <td>devil      </td>\n",
       "        </tr>\n",
       "        <tr>\n",
       "            <td>devot </td> <td>devotion   </td>\n",
       "        </tr>\n",
       "        <tr>\n",
       "            <td>devour</td> <td>devour     </td>\n",
       "        </tr>\n",
       "        <tr>\n",
       "            <td>dew   </td> <td>dew        </td>\n",
       "        </tr>\n",
       "        <tr>\n",
       "            <td>di    </td> <td>di         </td>\n",
       "        </tr>\n",
       "        <tr>\n",
       "            <td>dia   </td> <td>dia        </td>\n",
       "        </tr>\n",
       "        <tr>\n",
       "            <td>diablo</td> <td>diablo     </td>\n",
       "        </tr>\n",
       "        <tr>\n",
       "            <td>dial  </td> <td>dial       </td>\n",
       "        </tr>\n",
       "    </tbody>\n",
       "</table>"
      ],
      "text/plain": [
       "Stem   | Word\n",
       "devant | devant\n",
       "devast | devastation\n",
       "devil  | devil\n",
       "devot  | devotion\n",
       "devour | devour\n",
       "dew    | dew\n",
       "di     | di\n",
       "dia    | dia\n",
       "diablo | diablo\n",
       "dial   | dial"
      ]
     },
     "execution_count": 130,
     "metadata": {},
     "output_type": "execute_result"
    }
   ],
   "source": [
    "vocab_mapping = Table.read_table('https://raw.githubusercontent.com/data-8/data8assets/gh-pages/materials/sp17/project/project3/mxm_reverse_mapping_safe.csv')\n",
    "stemmed = np.take(lyrics.labels, np.arange(3, len(lyrics.labels)))\n",
    "vocab_table = Table().with_column('Stem', stemmed).join('Stem', vocab_mapping)\n",
    "vocab_table.take(np.arange(1100, 1110))"
   ]
  },
  {
   "cell_type": "markdown",
   "metadata": {},
   "source": [
    "### Question 1.1.1:\n",
    "Assign unchanged to the percentage of words in the vocab_table that are teh same as their stemmed form (such as devour above)\n",
    "\n",
    "*Hint*: Try using where and comparing the number of rows in a table of only unchanged vocabulary with the number of rows in vocab_table"
   ]
  },
  {
   "cell_type": "code",
   "execution_count": 131,
   "metadata": {},
   "outputs": [
    {
     "name": "stdout",
     "output_type": "stream",
     "text": [
      "0.72 percent are unchanged\n"
     ]
    }
   ],
   "source": [
    "unchanged = vocab_table.where('Stem', are.equal_to, vocab_table.column('Word')).num_rows\n",
    "percent_unchanged = unchanged/vocab_table.num_rows\n",
    "print(round(percent_unchanged, 2), 'percent are unchanged')"
   ]
  },
  {
   "cell_type": "markdown",
   "metadata": {},
   "source": [
    "### Question 1.1.2:\n",
    "Assign stememd_message to the stemmed version of the word 'message'."
   ]
  },
  {
   "cell_type": "code",
   "execution_count": 132,
   "metadata": {},
   "outputs": [
    {
     "data": {
      "text/plain": [
       "'messag'"
      ]
     },
     "execution_count": 132,
     "metadata": {},
     "output_type": "execute_result"
    }
   ],
   "source": [
    "stemmed_message = vocab_table.where('Word','message').column(0).item(0)\n",
    "stemmed_message"
   ]
  },
  {
   "cell_type": "markdown",
   "metadata": {},
   "source": [
    "### Question 1.1.3:\n",
    "Assign unstemmed_singl to the word in vocab_table that has 'singl' as its stemmed form."
   ]
  },
  {
   "cell_type": "code",
   "execution_count": 133,
   "metadata": {},
   "outputs": [
    {
     "data": {
      "text/plain": [
       "'single'"
      ]
     },
     "execution_count": 133,
     "metadata": {},
     "output_type": "execute_result"
    }
   ],
   "source": [
    "unstemmed_singl = vocab_table.where('Stem', 'singl').column(1).item(0)\n",
    "unstemmed_singl"
   ]
  },
  {
   "cell_type": "markdown",
   "metadata": {},
   "source": [
    "### Question 1.1.4:\n",
    "What word in the vocab_table was shortened the most by this stemming process? \n",
    "Assign most_shortened to the word. It's an example of how heuristic stemming can collapse two unrelated words into the same stem (which is bad, but happens a lot in practice anyway)"
   ]
  },
  {
   "cell_type": "code",
   "execution_count": 134,
   "metadata": {},
   "outputs": [
    {
     "data": {
      "text/plain": [
       "'international'"
      ]
     },
     "execution_count": 134,
     "metadata": {},
     "output_type": "execute_result"
    }
   ],
   "source": [
    "# In the class solution, we foudn it useful to first make an array\n",
    "# called shortened contaiing the number of characters that was\n",
    "# chopped off of each word in vocav_table, but you dont have to do that\n",
    "def len_string(col):\n",
    "    col_array = vocab_table.column(col)\n",
    "    collection = make_array()\n",
    "    for i in np.arange(len(vocab_table.column(col))):\n",
    "        word = col_array.item(i)\n",
    "        word_length = len(word)\n",
    "        collection = np.append(collection, word_length)\n",
    "    return collection\n",
    "\n",
    "shortened = len_string(0)-len_string(1)\n",
    "shortest = min(shortened)\n",
    "v_table2 = vocab_table.with_column('Differences', shortened)\n",
    "most_shortened = v_table2.where('Differences', shortest).column('Word').item(0)\n",
    "most_shortened"
   ]
  },
  {
   "cell_type": "markdown",
   "metadata": {},
   "source": [
    "# 1.2: Splitting the Dataset\n",
    "We're going to use our lyrics dataset for two purposes:\n",
    "1) First, we want to *train* song genre classifiers.\n",
    "2) Second, we want to *test* the performance of our classifiers\n",
    "\n",
    "Hence, we need two different datasets: *training* and *test*\n",
    "\n",
    "The purpose of a classifier is to classify unseen data that is similar to the training data. Therefore, we must ensure that there are no songs that appear in both sets.\n",
    "\n",
    "We do so by splitting the dataset randomly. The dataset has already been permuted randomly, so its easy to split.\n",
    "\n",
    "We just take the top for training and the rest for test.\n",
    "\n",
    "Run the following code below (w/o changing it) to sperate the dataset into two tables:"
   ]
  },
  {
   "cell_type": "code",
   "execution_count": 135,
   "metadata": {},
   "outputs": [
    {
     "name": "stdout",
     "output_type": "stream",
     "text": [
      "Training:  1183 ; Test:  538\n"
     ]
    }
   ],
   "source": [
    "\n",
    "# Here we have defined the proportion of our data\n",
    "# that we want to designate for training as 11/16ths\n",
    "# of our total dataset.  5/16ths of the data is\n",
    "# reserved for testing.\n",
    "\n",
    "training_proportion = 11/16\n",
    "\n",
    "num_songs = lyrics.num_rows\n",
    "num_train = int(num_songs * training_proportion)\n",
    "num_valid = num_songs - num_train\n",
    "\n",
    "train_lyrics = lyrics.take(np.arange(num_train))\n",
    "test_lyrics = lyrics.take(np.arange(num_train, num_songs))\n",
    "\n",
    "print(\"Training: \",   train_lyrics.num_rows, \";\",\n",
    "      \"Test: \",       test_lyrics.num_rows)"
   ]
  },
  {
   "cell_type": "markdown",
   "metadata": {},
   "source": [
    "### Question 1.2.1:\n",
    "Draw a horizontal bar chart with two bars that show the proportion of Country songs in each dataset. Complete the function country_proportion first, it should help you create the bar chart."
   ]
  },
  {
   "cell_type": "code",
   "execution_count": 136,
   "metadata": {},
   "outputs": [
    {
     "data": {
      "image/png": "[encoded data removed]",
      "text/plain": [
       "<Figure size 432x288 with 1 Axes>"
      ]
     },
     "metadata": {
      "needs_background": "light"
     },
     "output_type": "display_data"
    }
   ],
   "source": [
    "def country_proportion(table):\n",
    "    \"\"\"Return the proportion of songs in a table that have a Country genre\"\"\"\n",
    "    country = table.where('Genre', 'Country').num_rows\n",
    "    return country/table.num_rows\n",
    "Prop_country = Table().with_columns('Set', make_array('Training', 'Test'),\n",
    "                                    'Country Proportions', make_array(country_proportion(train_lyrics),\n",
    "                                                                      country_proportion(test_lyrics))\n",
    "                                   )\n",
    "prop_country_bar = Prop_country.barh(0,1)"
   ]
  },
  {
   "cell_type": "markdown",
   "metadata": {},
   "source": [
    "# 2. K-Nearest Neighbors - a Guided Example\n",
    "\n",
    "K-Nearest Neighbors (k-NN) is a classification algorithm\n",
    "\n",
    "Given some *attributes* (also called *features*) of an unseen example, it decideds wehther that exmaple belongs to one or the other of two categories based on its similarity to previously seen examples. \n",
    "\n",
    "Predicting the category of an example is called *labeling* and th predicted caregory is also called a *label*\n",
    "\n",
    "An attribute (feature) we have about each song is the *proportion of times a particular word appears in the lyrics*, and the labels are two music genres: Country and Hiphop.\n",
    "\n",
    "The algorith requires many previously seen examples for which both the attributes and labels are known: thats the train_lyrics table\n",
    "\n",
    "To build understanding, we're going to visualize the algorith instead of just describing it"
   ]
  },
  {
   "cell_type": "markdown",
   "metadata": {},
   "source": [
    "# 2.1: Classifying a song\n",
    "\n",
    "in k-NN, we classify a song by: finding the k songs in the *training set* that are most similar according to the features we choose. We call those songs w/ similar features the *nearest neighbors*. The k-NN algoorith assigns the most common category among its k-nearest neighbors\n",
    "\n",
    "Let's limit ourselves to just 2 features for now, so we can plot each song. The features we will use are the proportions of the words \"like\" and \"love\" in the lyrics. Taking the song \"In Your Eyes\" (in the test set), 0.0119 of its words are \"like\" and 0.0595 are \"love\". This song appears in the test set, so let's imagine that we don't yet know its genre.\n",
    "\n",
    "First, we need to make our notion of similarity more precise. We will say that the distance between two songs is the straight-line distance between them when we plot their features in a scatter diagram. This distance is called the Euclidean (\"yoo-KLID-ee-un\") distance.\n",
    "\n",
    "For example, in the song Insane in the Brain (in the training set), 0.0203 of all the words in the song are \"like\" and 0 are \"love\". Its distance from In Your Eyes on this 2-word feature set is $\\sqrt{(0.0119 - 0.0203)^2 + (0.0595 - 0)^2} \\approx 0.06$. (If we included more or different features, the distance could be different.)\n",
    "\n",
    "A third song, Sangria Wine (in the training set), is 0.0044 \"like\" and 0.0925 \"love\".\n",
    "\n",
    "The function below creates a plot to display the \"like\" and \"love\" features of a test song and some training songs. As you can see in the result, In Your Eyes is more similar to Sangria Wine than to Insane in the Brain."
   ]
  },
  {
   "cell_type": "code",
   "execution_count": 137,
   "metadata": {},
   "outputs": [
    {
     "data": {
      "image/png": "[encoded data removed]",
      "text/plain": [
       "<Figure size 360x360 with 1 Axes>"
      ]
     },
     "metadata": {
      "needs_background": "light"
     },
     "output_type": "display_data"
    }
   ],
   "source": [
    "# Just run this cell.\n",
    "\n",
    "def plot_with_two_features(test_song, training_songs, x_feature, y_feature):\n",
    "    \"\"\"Plot a test song and training songs using two features.\"\"\"\n",
    "    test_row = row_for_title(test_song)\n",
    "    distances = Table().with_columns(\n",
    "            x_feature, [test_row.item(x_feature)],\n",
    "            y_feature, [test_row.item(y_feature)],\n",
    "            'Color',   ['Unknown'],\n",
    "            'Title',   [test_song]\n",
    "        )\n",
    "    for song in training_songs:\n",
    "        row = row_for_title(song)\n",
    "        distances.append([row.item(x_feature), row.item(y_feature), row.item('Genre'), song])\n",
    "    distances.scatter(x_feature, y_feature, colors='Color', labels='Title', s=200)\n",
    "    \n",
    "training = [\"Sangria Wine\", \"Insane In The Brain\"]\n",
    "plot_with_two_features(\"In Your Eyes\", training, \"like\", \"love\")"
   ]
  },
  {
   "cell_type": "markdown",
   "metadata": {},
   "source": [
    "### Question 2.1.1: \n",
    "Compute the distance between the two country songs, In Your Eyes and Sangria Wine, using the like and love features only. Assign it the name country_distance.\n",
    "\n",
    "Note: If you have a row object, you can use item to get a value from a column by its name. For example, if r is a row, then r.item(\"Genre\") is the value in column \"Genre\" in row r.\n",
    "\n",
    "Note 2: You can quickly get the row from the lyrics table via row_for_title. For example, if \"Insane In The Brain\" is the song title, then row_for_title(\"Insane In The Brain\") is the row object for this song."
   ]
  },
  {
   "cell_type": "code",
   "execution_count": 138,
   "metadata": {},
   "outputs": [
    {
     "data": {
      "text/plain": [
       "0.03382894432459689"
      ]
     },
     "execution_count": 138,
     "metadata": {},
     "output_type": "execute_result"
    }
   ],
   "source": [
    "in_your_eyes = row_for_title(\"In Your Eyes\")\n",
    "sangria_wine = row_for_title(\"Sangria Wine\")\n",
    "in_your_eyes_distances = make_array(in_your_eyes.item('like'), in_your_eyes.item('love'))\n",
    "sangria_distances = make_array(sangria_wine.item('like'), sangria_wine.item('love'))\n",
    "\n",
    "country_distance = np.sqrt(np.sum((in_your_eyes_distances-sangria_distances)**2))\n",
    "country_distance"
   ]
  },
  {
   "cell_type": "markdown",
   "metadata": {},
   "source": [
    "### Question 2.1.2:\n",
    "Complete the function distance_two_features that computes the Euclidean distance between any two songs, using two features\n",
    "\n",
    "the last two lines call your function to show that *Lookin' for Love* is closer to *In Your Eyes* than *Insane in the Brain*"
   ]
  },
  {
   "cell_type": "code",
   "execution_count": 139,
   "metadata": {},
   "outputs": [
    {
     "name": "stdout",
     "output_type": "stream",
     "text": [
      "Lookin' for Love distance:\t 0.020265774000000007\n",
      "Insane In The Brain distance:\t 0.051158300000000004\n"
     ]
    }
   ],
   "source": [
    "def distance_two_features(title0,title1,x_feature,y_feature):\n",
    "    \"\"\"Compute the distance between two songs with titles title0 and title1\n",
    "    \n",
    "    Only the features named x_feature and y_feature are used when computing the distance.\n",
    "    \"\"\"\n",
    "    row0 = row_for_title(title0)\n",
    "    row1 = row_for_title(title1)\n",
    "    \n",
    "    distance0 = make_array(row0.item(x_feature), row0.item(y_feature))\n",
    "    distance1 = make_array(row1.item(x_feature), row1.item(y_feature))\n",
    "    return np.sqrt(np.sum(distance0-distance1)**2)\n",
    "\n",
    "for song in make_array(\"Lookin' for Love\", \"Insane In The Brain\"):\n",
    "    song_distance = distance_two_features(song, \"In Your Eyes\", \"like\", \"love\")\n",
    "    print(song, 'distance:\\t', song_distance)"
   ]
  },
  {
   "cell_type": "markdown",
   "metadata": {},
   "source": [
    "### Question 2.1.3:\n",
    "Define the function distane_from_in_your_eyes so that it works as describes in its documentation:"
   ]
  },
  {
   "cell_type": "code",
   "execution_count": 140,
   "metadata": {},
   "outputs": [],
   "source": [
    "def distance_from_in_your_eyes(title):\n",
    "    \"\"\"The distance between the given song and \"In Your Eyes\", based on the features \"like\" and \"love\".\n",
    "    \n",
    "    This function takes a single argument:\n",
    "      title: A string, the name of a song.\n",
    "    \"\"\"\n",
    "    return distance_two_features('In Your Eyes', title, 'like','love')"
   ]
  },
  {
   "cell_type": "markdown",
   "metadata": {},
   "source": [
    "### Question 2.1.4:\n",
    "Using the features 'like' and 'love', what are the names and genres of the 7 songs in the *training set* closest to 'In Your Eyes'?\n",
    "\n",
    "To answer this question, make a table named close_songs with those 7 songs w/ columns \"Title\", \"Genre\", \"like\", \"love\", as well as \"distance\" from 'In Your Eyes'.\n",
    "\n",
    "Table should be sorted in ascending order by distance"
   ]
  },
  {
   "cell_type": "code",
   "execution_count": 141,
   "metadata": {},
   "outputs": [
    {
     "data": {
      "text/html": [
       "<table border=\"1\" class=\"dataframe\">\n",
       "    <thead>\n",
       "        <tr>\n",
       "            <th>Title</th> <th>Genre</th>\n",
       "        </tr>\n",
       "    </thead>\n",
       "    <tbody>\n",
       "        <tr>\n",
       "            <td>The Rhythm Of The Pourin' Rain</td> <td>Country</td>\n",
       "        </tr>\n",
       "        <tr>\n",
       "            <td>Your Love Gets Sweeter        </td> <td>Hip-hop</td>\n",
       "        </tr>\n",
       "        <tr>\n",
       "            <td>The Way Love Looks            </td> <td>Country</td>\n",
       "        </tr>\n",
       "        <tr>\n",
       "            <td>Simple Love                   </td> <td>Country</td>\n",
       "        </tr>\n",
       "        <tr>\n",
       "            <td>Rockstar Mentality            </td> <td>Hip-hop</td>\n",
       "        </tr>\n",
       "        <tr>\n",
       "            <td>All My Love                   </td> <td>Hip-hop</td>\n",
       "        </tr>\n",
       "        <tr>\n",
       "            <td>The Hardest Part              </td> <td>Country</td>\n",
       "        </tr>\n",
       "    </tbody>\n",
       "</table>"
      ],
      "text/plain": [
       "Title                          | Genre\n",
       "The Rhythm Of The Pourin' Rain | Country\n",
       "Your Love Gets Sweeter         | Hip-hop\n",
       "The Way Love Looks             | Country\n",
       "Simple Love                    | Country\n",
       "Rockstar Mentality             | Hip-hop\n",
       "All My Love                    | Hip-hop\n",
       "The Hardest Part               | Country"
      ]
     },
     "execution_count": 141,
     "metadata": {},
     "output_type": "execute_result"
    }
   ],
   "source": [
    "close_tbl = train_lyrics.select('Title', 'Artist', 'Genre', 'like', 'love')\n",
    "close = close_tbl.apply(distance_from_in_your_eyes, 'Title')\n",
    "close_songs = close_tbl.with_column('distance', close).sort('distance').take(np.arange(7))\n",
    "close_songs.select('Title','Genre')"
   ]
  },
  {
   "cell_type": "markdown",
   "metadata": {},
   "source": [
    "### Question 2.1.5:\n",
    "Define the function most_common so that it words as described in the documentation below:\n"
   ]
  },
  {
   "cell_type": "code",
   "execution_count": 142,
   "metadata": {},
   "outputs": [
    {
     "data": {
      "text/plain": [
       "'Country'"
      ]
     },
     "execution_count": 142,
     "metadata": {},
     "output_type": "execute_result"
    }
   ],
   "source": [
    "\n",
    "def most_common(label, table):\n",
    "    \"\"\"The most common element in a column of a table.\n",
    "    \n",
    "    This function takes two arguments:\n",
    "      label: The label of a column, a string.\n",
    "      table: A table.\n",
    "     \n",
    "    It returns the most common value in that column of that table.\n",
    "    In case of a tie, it returns any one of the most common values\n",
    "    \"\"\"\n",
    "    most = table.group(label).sort(1, descending=True).column(0).item(0)\n",
    "    return most\n",
    "    \n",
    "\n",
    "# Calling most_common on your table of 7 nearest neighbors classifies\n",
    "# \"In Your Eyes\" as a country song, 4 votes to 3.\n",
    "most_common('Genre', close_songs)"
   ]
  },
  {
   "cell_type": "markdown",
   "metadata": {},
   "source": [
    "# 3. Features\n",
    "Now, we're going to extend our classifier to xonsider more than two features at a time.\n",
    "\n",
    "Euclidean distance still makes sense w/ more than two features.\n",
    "\n",
    "\n",
    "For n different feautres:\n",
    "    1) we compute the distance between corresponding feature values for two songs\n",
    "    2) square each of the n differences\n",
    "    3) sum up the resulting numbers\n",
    "    4) take the square root of the sum"
   ]
  },
  {
   "cell_type": "markdown",
   "metadata": {},
   "source": [
    "# 3.1: Creating your own feature set\n",
    "Unfortunately, using all of the features has some downsides. \n",
    "\n",
    "One clear downside is computational -- computing Euclidean distances just takes a long time when we have lots of features. You might have noticed that in the last question!\n",
    "\n",
    "So we're going to select just 20. \n",
    "\n",
    "We'd like to choose features that are very discriminative. \n",
    "\n",
    "That is, features which lead us to correctly classify as much of the test set as possible. \n",
    "\n",
    "This process of choosing features that will make a classifier work well is sometimes called *feature selection*, or more broadly *feature engineering*."
   ]
  },
  {
   "cell_type": "markdown",
   "metadata": {},
   "source": [
    "### Question 3.1.1:\n",
    "Look through the list of features (the labels of the lyrics table after the first three). \n",
    "\n",
    "Choose 20 common words that you think might let you distinguish between country and hip-hop songs. \n",
    "\n",
    "Make sure to choose words that are frequent enough that every song contains at least one of them. Don't just choose the 20 most frequent, though... you can do much better.\n",
    "\n",
    "You might want to come back to this question later to improve your list, once you've seen how to evaluate your classifier. The first time you answer this question, spend some time looking through the features, but not more than 15 minutes."
   ]
  },
  {
   "cell_type": "code",
   "execution_count": 266,
   "metadata": {
    "scrolled": false
   },
   "outputs": [],
   "source": [
    "my_20_features = make_array('love','down','yeah','heart','gonna',\n",
    "                            'girl', 'sweet', 'road', 'gave', 'my',\n",
    "                            'she', 'thing', 'he', 'right', 'man',\n",
    "                            'not', 'we', 'time', 'go', 'up'\n",
    "                           )\n",
    "train_20 = train_lyrics.select(my_20_features)\n",
    "test_20 = test_lyrics.select(my_20_features)"
   ]
  },
  {
   "cell_type": "markdown",
   "metadata": {},
   "source": [
    "Next, let us classify the first song from our test set using these features. You can examine the song by running the cells below."
   ]
  },
  {
   "cell_type": "code",
   "execution_count": 267,
   "metadata": {},
   "outputs": [
    {
     "name": "stdout",
     "output_type": "stream",
     "text": [
      "Song:\n"
     ]
    },
    {
     "data": {
      "text/html": [
       "<table border=\"1\" class=\"dataframe\">\n",
       "    <thead>\n",
       "        <tr>\n",
       "            <th>Title</th> <th>Artist</th> <th>Genre</th>\n",
       "        </tr>\n",
       "    </thead>\n",
       "    <tbody>\n",
       "        <tr>\n",
       "            <td>That Kind of Love</td> <td>Alison Krauss</td> <td>Country</td>\n",
       "        </tr>\n",
       "    </tbody>\n",
       "</table>"
      ],
      "text/plain": [
       "<IPython.core.display.HTML object>"
      ]
     },
     "metadata": {},
     "output_type": "display_data"
    },
    {
     "name": "stdout",
     "output_type": "stream",
     "text": [
      "Features:\n"
     ]
    },
    {
     "data": {
      "text/html": [
       "<table border=\"1\" class=\"dataframe\">\n",
       "    <thead>\n",
       "        <tr>\n",
       "            <th>love</th> <th>down</th> <th>yeah</th> <th>heart</th> <th>gonna</th> <th>girl</th> <th>sweet</th> <th>road</th> <th>gave</th> <th>my</th> <th>she</th> <th>thing</th> <th>he</th> <th>right</th> <th>man</th> <th>not</th> <th>we</th> <th>time</th> <th>go</th> <th>up</th>\n",
       "        </tr>\n",
       "    </thead>\n",
       "    <tbody>\n",
       "        <tr>\n",
       "            <td>0.026455</td> <td>0   </td> <td>0   </td> <td>0.015873</td> <td>0    </td> <td>0   </td> <td>0.005291</td> <td>0   </td> <td>0   </td> <td>0.015873</td> <td>0   </td> <td>0    </td> <td>0   </td> <td>0    </td> <td>0   </td> <td>0.026455</td> <td>0.042328</td> <td>0   </td> <td>0.005291</td> <td>0   </td>\n",
       "        </tr>\n",
       "    </tbody>\n",
       "</table>"
      ],
      "text/plain": [
       "<IPython.core.display.HTML object>"
      ]
     },
     "metadata": {},
     "output_type": "display_data"
    }
   ],
   "source": [
    "print(\"Song:\")\n",
    "test_lyrics.take(0).select('Title', 'Artist', 'Genre').show()\n",
    "print(\"Features:\")\n",
    "test_20.take(0).show()"
   ]
  },
  {
   "cell_type": "markdown",
   "metadata": {},
   "source": [
    "As before, we want to look for the songs in the training set that are most alike our test song. \n",
    "\n",
    "We will calculate the Euclidean distances from the test song (using the 20 selected features) to all songs in the training set. \n",
    "\n",
    "You could do this with a for loop, but to make it computationally faster, we have provided a function, fast_distances, to do this for you. \n",
    "\n",
    "Read its documentation to make sure you understand what it does. (You don't need to read the code in its body unless you want to.)"
   ]
  },
  {
   "cell_type": "code",
   "execution_count": 268,
   "metadata": {},
   "outputs": [],
   "source": [
    "def fast_distances(test_row, train_rows):\n",
    "    \"\"\"An array of the distances between test_row and each row in train_rows.\n",
    "\n",
    "    Takes 2 arguments:\n",
    "      test_row: A row of a table containing features of one\n",
    "        test song (e.g., test_20.row(0)).\n",
    "      train_rows: A table of features (for example, the whole\n",
    "        table train_20).\"\"\"\n",
    "    assert train_rows.num_columns < 50, \"Make sure you're not using all the features of the lyrics table.\"\n",
    "    counts_matrix = np.asmatrix(train_rows.columns).transpose()\n",
    "    diff = np.tile(np.array(test_row), [counts_matrix.shape[0], 1]) - counts_matrix\n",
    "    distances = np.squeeze(np.asarray(np.sqrt(np.square(diff).sum(1))))\n",
    "    return distances"
   ]
  },
  {
   "cell_type": "markdown",
   "metadata": {},
   "source": [
    "### Question 3.1.3: (skip 3.1.2)\n",
    "Use the fast_distances function provided to compute the distance from the first song in the test set to all the songs in the training set, using your set of 20 Features\n",
    "\n",
    "make a new table called genre_and_distances with one row for each song in the training set and 2 columns: genre (of training song) and distance (from the frist song in the test set)\n",
    "\n",
    "ensure that genre_and_distances is sorted in increasing order by distance to the first test song."
   ]
  },
  {
   "cell_type": "code",
   "execution_count": 269,
   "metadata": {},
   "outputs": [
    {
     "data": {
      "text/html": [
       "<table border=\"1\" class=\"dataframe\">\n",
       "    <thead>\n",
       "        <tr>\n",
       "            <th>Genre</th> <th>Distance</th>\n",
       "        </tr>\n",
       "    </thead>\n",
       "    <tbody>\n",
       "        <tr>\n",
       "            <td>Hip-hop</td> <td>0.0270386</td>\n",
       "        </tr>\n",
       "        <tr>\n",
       "            <td>Hip-hop</td> <td>0.0277643</td>\n",
       "        </tr>\n",
       "        <tr>\n",
       "            <td>Country</td> <td>0.0281418</td>\n",
       "        </tr>\n",
       "        <tr>\n",
       "            <td>Country</td> <td>0.03181  </td>\n",
       "        </tr>\n",
       "        <tr>\n",
       "            <td>Hip-hop</td> <td>0.032378 </td>\n",
       "        </tr>\n",
       "        <tr>\n",
       "            <td>Hip-hop</td> <td>0.0327127</td>\n",
       "        </tr>\n",
       "        <tr>\n",
       "            <td>Country</td> <td>0.0329362</td>\n",
       "        </tr>\n",
       "        <tr>\n",
       "            <td>Country</td> <td>0.0332303</td>\n",
       "        </tr>\n",
       "        <tr>\n",
       "            <td>Hip-hop</td> <td>0.0336385</td>\n",
       "        </tr>\n",
       "        <tr>\n",
       "            <td>Hip-hop</td> <td>0.0344833</td>\n",
       "        </tr>\n",
       "    </tbody>\n",
       "</table>\n",
       "<p>... (1173 rows omitted)</p>"
      ],
      "text/plain": [
       "Genre   | Distance\n",
       "Hip-hop | 0.0270386\n",
       "Hip-hop | 0.0277643\n",
       "Country | 0.0281418\n",
       "Country | 0.03181\n",
       "Hip-hop | 0.032378\n",
       "Hip-hop | 0.0327127\n",
       "Country | 0.0329362\n",
       "Country | 0.0332303\n",
       "Hip-hop | 0.0336385\n",
       "Hip-hop | 0.0344833\n",
       "... (1173 rows omitted)"
      ]
     },
     "execution_count": 269,
     "metadata": {},
     "output_type": "execute_result"
    }
   ],
   "source": [
    "distances_array = fast_distances(test_20.row(0), train_20)\n",
    "genre_and_distances = train_lyrics.with_column('Distance', distances_array)\n",
    "genre_and_distances = genre_and_distances.select('Genre', 'Distance').sort('Distance')\n",
    "genre_and_distances"
   ]
  },
  {
   "cell_type": "markdown",
   "metadata": {},
   "source": [
    "### Question 3.1.4: \n",
    "Now compute the 5-nearest neighbors classification of the first song in the test set. \n",
    "\n",
    "That is, decide on its genre by finding the most common genre among its 5 nearest neighbors, according to the distances you've calculated.\n",
    "\n",
    "Then check whether your classifier chose the right genre. (Depending on the features you chose, your classifier might not get this song right, and that's okay.)"
   ]
  },
  {
   "cell_type": "code",
   "execution_count": 270,
   "metadata": {},
   "outputs": [
    {
     "name": "stdout",
     "output_type": "stream",
     "text": [
      "The assigned genre, Country, was correct.\n"
     ]
    }
   ],
   "source": [
    "#Set my_assigned_genre to the most common genre among these.\n",
    "my_assigned_genre = genre_and_distances.take(np.arange(5)).group('Genre').column(0).item(0)\n",
    "\n",
    "# Set my_assigned_genre_was_correct to True if my_assigned_genre\n",
    "# matches the actual genre of the first song in the test set.\n",
    "my_assigned_genre_was_correct = my_assigned_genre == test_lyrics.take(0).column('Genre').item(0)\n",
    "\n",
    "print(\"The assigned genre, {}, was{}correct.\".format(my_assigned_genre, \" \" if my_assigned_genre_was_correct else \" not \"))"
   ]
  },
  {
   "cell_type": "markdown",
   "metadata": {},
   "source": [
    "# 3.2: A Classifier Function\n",
    "Now we can write a single function that encapsulates the whole process of classification. "
   ]
  },
  {
   "cell_type": "markdown",
   "metadata": {},
   "source": [
    "### Question 3.2.1:\n",
    "Write a function called classify\n",
    "\n",
    "it should take 4 arguments:\n",
    "- 1) row of features for a song to classify (ex: test_20.row(0)))\n",
    "- 2) table w/ a column for each feature (ex: train_20)\n",
    "- 3) array of clases that has as many items as the previous table has rows, and in the same order\n",
    "- 4) k, number of neighbors to use in classification\n",
    "\n",
    "It should return the class a k-nearest neighbor classifier picks for the givern row of features (the string 'Country' or 'Hip Hop')."
   ]
  },
  {
   "cell_type": "code",
   "execution_count": 271,
   "metadata": {},
   "outputs": [
    {
     "data": {
      "text/plain": [
       "'Country'"
      ]
     },
     "execution_count": 271,
     "metadata": {},
     "output_type": "execute_result"
    }
   ],
   "source": [
    "def classify(test_row, train_rows, train_classes, k):\n",
    "    \"\"\"Return the most common class among k nearest neigbors to test_row.\"\"\"\n",
    "    distances = fast_distances(test_row, train_rows)\n",
    "    genre_and_distances = Table().with_columns('Genre', train_classes,\n",
    "                                             'Distance', distances\n",
    "                                             ).sort('Distance')\n",
    "    k_closest_grouped = genre_and_distances.take(np.arange(k)).group('Genre')\n",
    "    k_closest = k_closest_grouped.sort('count', descending=True).column(0).item(0)\n",
    "    return k_closest"
   ]
  },
  {
   "cell_type": "markdown",
   "metadata": {},
   "source": [
    "### Question 3.2.2:\n",
    "Assign granpa_genre to the genre predicted by your classifier for the song 'Grandpa Got Runned OVer By A John Deere' using 9 neighbors and using 20 features"
   ]
  },
  {
   "cell_type": "code",
   "execution_count": 273,
   "metadata": {},
   "outputs": [
    {
     "data": {
      "text/plain": [
       "'Country'"
      ]
     },
     "execution_count": 273,
     "metadata": {},
     "output_type": "execute_result"
    }
   ],
   "source": [
    "grandpa_features = lyrics.where('Title', 'Grandpa Got Runned Over By A John Deere').drop(0,1,2).select(my_20_features).row(0)\n",
    "grandpa_genre = classify(grandpa_features, train_20, train_lyrics.column('Genre'), 9)\n",
    "grandpa_genre"
   ]
  },
  {
   "cell_type": "markdown",
   "metadata": {},
   "source": [
    "### Question 3.2.3:\n",
    "Create a classification function that takes as its argument a row containing your 20 features and classifies that row using the 5-nn alogirth with train_20 as its training set:"
   ]
  },
  {
   "cell_type": "code",
   "execution_count": 280,
   "metadata": {},
   "outputs": [
    {
     "data": {
      "text/plain": [
       "'Hip-hop'"
      ]
     },
     "execution_count": 280,
     "metadata": {},
     "output_type": "execute_result"
    }
   ],
   "source": [
    "def classify_one_argument(row):\n",
    "    return classify(row, train_20, train_lyrics.column('Genre'), 5)\n",
    "classify_one_argument(test_20.row(0))"
   ]
  },
  {
   "cell_type": "markdown",
   "metadata": {},
   "source": [
    "# 3.3: Evaluating Your Classifier\n",
    "Now lets see how accurate this is on the whole test set"
   ]
  },
  {
   "cell_type": "markdown",
   "metadata": {},
   "source": [
    "### Question 3.3.1:\n",
    "Use classify_one_argument and apply to class every song in the test set.\n",
    "Name these guesses test_guesses.\n",
    "Then finally, compute the prop of correct classifications"
   ]
  },
  {
   "cell_type": "code",
   "execution_count": 286,
   "metadata": {},
   "outputs": [
    {
     "data": {
      "text/plain": [
       "0.6988847583643123"
      ]
     },
     "execution_count": 286,
     "metadata": {},
     "output_type": "execute_result"
    }
   ],
   "source": [
    "test_guesses = test_20.apply(classify_one_argument)\n",
    "proportion_correct = test_guesses == test_lyrics.column('Genre')\n",
    "proportion_correct = np.count_nonzero(proportion_correct) / test_lyrics.num_rows\n",
    "proportion_correct"
   ]
  },
  {
   "cell_type": "markdown",
   "metadata": {},
   "source": [
    "# 4. Extra Explorations\n",
    "Now that we know how to evaluate a classifier, its time to build a better one"
   ]
  },
  {
   "cell_type": "markdown",
   "metadata": {},
   "source": [
    "### Question 4.1:\n",
    "Find a classifier with a better test-set accuracy than classify_one_argument \n",
    "\n",
    "Your new f(x) should have same args as classify_one_argument and return a classification. Name it another_classifier\n",
    "\n",
    "You can use more or different features, or you can try differnt values of k"
   ]
  },
  {
   "cell_type": "code",
   "execution_count": 296,
   "metadata": {},
   "outputs": [
    {
     "data": {
      "text/plain": [
       "0.741635687732342"
      ]
     },
     "execution_count": 296,
     "metadata": {},
     "output_type": "execute_result"
    }
   ],
   "source": [
    "# To start you off, here's a list of possibly-useful features:\n",
    "staff_features = make_array(\"come\", \"do\", \"have\", \"heart\", \"make\", \"never\", \"now\", \"wanna\", \"with\", \"yo\")\n",
    "\n",
    "train_staff = train_lyrics.select(staff_features)\n",
    "test_staff = test_lyrics.select(staff_features)\n",
    "\n",
    "def another_classifier(row):\n",
    "    return classify(row, train_staff, train_lyrics.column('Genre'), 5)\n",
    "another_classifier(test_staff.row(0))\n",
    "\n",
    "test_guesses_2 = test_staff.apply(another_classifier)\n",
    "proportion_correct_2 = test_guesses_2 == test_lyrics.column('Genre')\n",
    "proportion_correct_2 = np.count_nonzero(proportion_correct_2) / test_lyrics.num_rows\n",
    "proportion_correct_2"
   ]
  },
  {
   "cell_type": "code",
   "execution_count": null,
   "metadata": {},
   "outputs": [],
   "source": []
  }
 ],
 "metadata": {
  "kernelspec": {
   "display_name": "Python 3",
   "language": "python",
   "name": "python3"
  },
  "language_info": {
   "codemirror_mode": {
    "name": "ipython",
    "version": 3
   },
   "file_extension": ".py",
   "mimetype": "text/x-python",
   "name": "python",
   "nbconvert_exporter": "python",
   "pygments_lexer": "ipython3",
   "version": "3.7.6"
  }
 },
 "nbformat": 4,
 "nbformat_minor": 4
}
